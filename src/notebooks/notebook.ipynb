{
 "cells": [
  {
   "cell_type": "code",
   "execution_count": 11,
   "metadata": {},
   "outputs": [],
   "source": [
    "from Bio import Entrez\n",
    "from datetime import datetime\n",
    "import json\n",
    "import xmltodict\n",
    "import pandas as pd\n",
    "import ssl\n",
    "ssl._create_default_https_context = ssl._create_unverified_context\n",
    "import seaborn as sns\n",
    "import matplotlib.pyplot as plt\n",
    "import re\n",
    "from nltk.corpus import stopwords\n",
    "from nltk.stem.snowball import SnowballStemmer\n",
    "from sqlalchemy import create_engine, Column, Integer, String, DateTime, text\n",
    "from sqlalchemy.ext.declarative import declarative_base\n",
    "from sqlalchemy.orm import Session\n"
   ]
  },
  {
   "cell_type": "markdown",
   "metadata": {},
   "source": [
    "# Data Extraction from PubMed"
   ]
  },
  {
   "cell_type": "code",
   "execution_count": 2,
   "metadata": {},
   "outputs": [],
   "source": [
    "def data_extractor(json_data):\n",
    "    data = json_data[\"PubmedArticleSet\"][\"PubmedArticle\"][\"MedlineCitation\"]\n",
    "\n",
    "    date = pd.to_datetime(data[\"DateRevised\"][\"Year\"] +\n",
    "                        data[\"DateRevised\"][\"Month\"] + data[\"DateRevised\"][\"Day\"])\n",
    "    \n",
    "    \n",
    "    if isinstance(data[\"Article\"][\"ArticleTitle\"], dict):\n",
    "        title = data[\"Article\"][\"ArticleTitle\"][\"#text\"]\n",
    "    else:\n",
    "        title = data[\"Article\"][\"ArticleTitle\"]\n",
    "\n",
    "    authors = []\n",
    "    author_data = data[\"Article\"][\"AuthorList\"][\"Author\"]\n",
    "    if type(author_data) == list:\n",
    "        for data_dict in author_data:\n",
    "            name = data_dict[\"ForeName\"] + \" \" + data_dict[\"LastName\"]\n",
    "            authors.append(name)\n",
    "    elif type(author_data) == dict:\n",
    "        name = author_data[\"ForeName\"] + \" \" + author_data[\"LastName\"]\n",
    "        authors.append(name)\n",
    "\n",
    "    keywords = []\n",
    "    keywords_path = data[\"KeywordList\"][\"Keyword\"]\n",
    "    if isinstance(keywords_path, list):\n",
    "        for keyword in data[\"KeywordList\"][\"Keyword\"]:\n",
    "            words = keyword[\"#text\"]\n",
    "            keywords.append(words)\n",
    "    elif isinstance(keywords_path, dict):\n",
    "            keywords = keywords_path[\"#text\"]\n",
    "        \n",
    "\n",
    "    abstract = data[\"Article\"][\"Abstract\"][\"AbstractText\"]\n",
    "    final_abstract = False\n",
    "    if isinstance(abstract, list):\n",
    "        for text in abstract:\n",
    "            if final_abstract == False:\n",
    "                final_abstract = text[\"#text\"]\n",
    "            else:\n",
    "                final_abstract += f\"\\n {text['#text']}\"\n",
    "    elif isinstance(abstract, dict):\n",
    "        final_abstract = abstract[\"#text\"]\n",
    "    else:\n",
    "        final_abstract = abstract\n",
    "\n",
    "    locator_format = False\n",
    "    locator_number = False\n",
    "    locators = data[\"Article\"][\"ELocationID\"]\n",
    "    if isinstance(locators, list):\n",
    "        for locator in locators:\n",
    "            if locator[\"@EIdType\"] == \"doi\": #encontrar forma de que si no existe doi poner el primero\n",
    "                locator_format = locator[\"@EIdType\"]\n",
    "                locator_number = locator[\"#text\"]\n",
    "    else:\n",
    "        locator_format = locators[\"@EIdType\"]\n",
    "        locator_number = locators[\"#text\"]\n",
    "\n",
    "    df = pd.DataFrame([[data[\"PMID\"][\"#text\"], title, date, data[\"Article\"][\"Journal\"][\"Title\"], data[\"Article\"][\"Journal\"][\"ISOAbbreviation\"],\n",
    "                    authors, final_abstract, keywords, locator_format, locator_number]],\n",
    "                    columns=[\"PMID\", \"Title\", \"Date\", \"Journal\", \"Journal_abreviation\", \"All_authors\", \"Abstract\", \"Keywords\", \"Locator_format\", \"Locator_number\"])\n",
    "    df = df.set_index(\"PMID\")\n",
    "    df.index = df.index.astype(int)\n",
    "    return df"
   ]
  },
  {
   "cell_type": "code",
   "execution_count": 8,
   "metadata": {},
   "outputs": [
    {
     "name": "stdout",
     "output_type": "stream",
     "text": [
      "start paper 1/2\n",
      "finish paper 1/2\n",
      "start paper 2/2\n",
      "finish paper 2/2\n"
     ]
    }
   ],
   "source": [
    "# Configura tu dirección de correo electrónico (es necesario para usar la API)\n",
    "Entrez.email = \"josemanuelgonzalezfornell@gmail.com\"\n",
    "\n",
    "# Obtén la fecha actual y calcula la fecha de hace un año\n",
    "fecha_actual = datetime.now()\n",
    "fecha_hace_un_anio = fecha_actual.replace(year=fecha_actual.year - 1)\n",
    "\n",
    "# Convierte las fechas al formato necesario para la búsqueda en PubMed\n",
    "fecha_actual_str = fecha_actual.strftime(\"%Y/%m/%d\")\n",
    "fecha_hace_un_anio_str = fecha_hace_un_anio.strftime(\"%Y/%m/%d\")\n",
    "\n",
    "max_results=2\n",
    "retmax=2\n",
    "all_results = []\n",
    "\n",
    "# Realiza la búsqueda en PubMed\n",
    "for retstart in range(0, max_results, retmax):\n",
    "    handle = Entrez.esearch(db=\"pubmed\", term=f'\"{fecha_hace_un_anio_str}\"[Date - Publication] : \"{fecha_actual_str}\"[Date - Publication]', retmax=retmax, retstart=retstart)\n",
    "    record = Entrez.read(handle)\n",
    "    handle.close()\n",
    "    all_results.extend(record[\"IdList\"])\n",
    "\n",
    "\n",
    "handle = Entrez.efetch(db=\"pubmed\", id=all_results, retmode=\"xml\", rettype=\"abstract\")\n",
    "record = handle.read()\n",
    "handle.close()\n",
    "\n",
    "df_final = pd.DataFrame()\n",
    "\n",
    "counter = 1\n",
    "\n",
    "# Descarga la información de cada paper\n",
    "for id_paper in all_results:\n",
    "    handle = Entrez.efetch(db=\"pubmed\", id=id_paper)\n",
    "    record = handle.read()\n",
    "    handle.close()\n",
    "\n",
    "    # Convierte XML a JSON usando xmltodict\n",
    "    json_data = xmltodict.parse(record)\n",
    "    print(f\"start paper {counter}/{max_results}\")\n",
    "    try:\n",
    "        df = data_extractor(json_data)\n",
    "        df_final = pd.concat([df_final, df])\n",
    "        print(f\"finish paper {counter}/{max_results}\")\n",
    "        counter += 1\n",
    "    except KeyError:\n",
    "        print(f\"paper {counter}/{max_results} ignored\")\n",
    "        counter += 1\n",
    "        continue        \n",
    "\n",
    "\n",
    "\n"
   ]
  },
  {
   "cell_type": "code",
   "execution_count": 4,
   "metadata": {},
   "outputs": [
    {
     "name": "stdout",
     "output_type": "stream",
     "text": [
      "<class 'pandas.core.frame.DataFrame'>\n",
      "Index: 7 entries, 38153010 to 38153002\n",
      "Data columns (total 9 columns):\n",
      " #   Column               Non-Null Count  Dtype         \n",
      "---  ------               --------------  -----         \n",
      " 0   Title                7 non-null      object        \n",
      " 1   Date                 7 non-null      datetime64[ns]\n",
      " 2   Journal              7 non-null      object        \n",
      " 3   Journal_abreviation  7 non-null      object        \n",
      " 4   All_authors          7 non-null      object        \n",
      " 5   Abstract             7 non-null      object        \n",
      " 6   Keywords             7 non-null      object        \n",
      " 7   Locator_format       7 non-null      object        \n",
      " 8   Locator_number       7 non-null      object        \n",
      "dtypes: datetime64[ns](1), object(8)\n",
      "memory usage: 560.0+ bytes\n"
     ]
    }
   ],
   "source": [
    "df_final.info()"
   ]
  },
  {
   "cell_type": "markdown",
   "metadata": {},
   "source": [
    "# BBDD create and load"
   ]
  },
  {
   "cell_type": "code",
   "execution_count": 5,
   "metadata": {},
   "outputs": [
    {
     "name": "stderr",
     "output_type": "stream",
     "text": [
      "/var/folders/r1/hd_91nzn1yb8kh1vq1c7gt2w0000gn/T/ipykernel_8811/1434489641.py:7: MovedIn20Warning: The ``declarative_base()`` function is now available as sqlalchemy.orm.declarative_base(). (deprecated since: 2.0) (Background on SQLAlchemy 2.0 at: https://sqlalche.me/e/b8d9)\n",
      "  Base = declarative_base()\n"
     ]
    },
    {
     "data": {
      "text/plain": [
       "7"
      ]
     },
     "execution_count": 5,
     "metadata": {},
     "output_type": "execute_result"
    }
   ],
   "source": [
    "df_to_ddbb = df_final.copy()\n",
    "df_to_ddbb[\"All_authors\"] = df_to_ddbb[\"All_authors\"].apply(lambda x: ', '.join(x) if isinstance(x, list) else '')\n",
    "df_to_ddbb[\"Keywords\"] = df_to_ddbb[\"Keywords\"].apply(lambda x: ', '.join(x) if isinstance(x, list) else '')\n",
    "\n",
    "engine = create_engine(f'sqlite:///../data/processed/Pubmed_DDBB.db')\n",
    "\n",
    "Base = declarative_base()\n",
    "\n",
    "# Define la tabla Main (puedes omitir esto si ya existe)\n",
    "class Main(Base):\n",
    "    __tablename__ = 'Main'\n",
    "    PMID = Column(Integer, primary_key=True)\n",
    "    Title = Column(String)\n",
    "    Date = Column(DateTime)\n",
    "    Journal = Column(String)\n",
    "    Journal_abreviation = Column(String)\n",
    "    All_authors = Column(String)\n",
    "    Abstract = Column(String)\n",
    "    Keywords = Column(String)\n",
    "    Locator_format = Column(String)\n",
    "    Locator_number = Column(String)\n",
    "\n",
    "# Crea la tabla en la base de datos\n",
    "Base.metadata.create_all(engine)\n",
    "\n",
    "\n",
    "df_to_ddbb.to_sql('Main', con=engine, index=True, if_exists='replace')"
   ]
  },
  {
   "cell_type": "markdown",
   "metadata": {},
   "source": [
    "# Clean data  \n",
    "## Stopwords removal"
   ]
  },
  {
   "cell_type": "code",
   "execution_count": 24,
   "metadata": {},
   "outputs": [],
   "source": [
    "engine = create_engine(f'sqlite:///../data/processed/Pubmed_DDBB.db')\n",
    "session = Session(engine)\n",
    "\n",
    "query = text(\"SELECT PMID, Abstract, Journal FROM Main\")\n",
    "\n",
    "result = session.execute(query).fetchall()\n",
    "df_abstract = pd.DataFrame(result).set_index(\"PMID\")"
   ]
  },
  {
   "cell_type": "code",
   "execution_count": null,
   "metadata": {},
   "outputs": [],
   "source": [
    "#TODO Eliminar links\n",
    "#TODO corregir texto antes de quitar stopsword\n",
    "#TODO realizar un baseline con los diferentes modelos de textBlob"
   ]
  },
  {
   "cell_type": "code",
   "execution_count": null,
   "metadata": {},
   "outputs": [
    {
     "data": {
      "text/html": [
       "<div>\n",
       "<style scoped>\n",
       "    .dataframe tbody tr th:only-of-type {\n",
       "        vertical-align: middle;\n",
       "    }\n",
       "\n",
       "    .dataframe tbody tr th {\n",
       "        vertical-align: top;\n",
       "    }\n",
       "\n",
       "    .dataframe thead th {\n",
       "        text-align: right;\n",
       "    }\n",
       "</style>\n",
       "<table border=\"1\" class=\"dataframe\">\n",
       "  <thead>\n",
       "    <tr style=\"text-align: right;\">\n",
       "      <th></th>\n",
       "      <th>Journal</th>\n",
       "      <th>Abstract</th>\n",
       "    </tr>\n",
       "    <tr>\n",
       "      <th>PMID</th>\n",
       "      <th></th>\n",
       "      <th></th>\n",
       "    </tr>\n",
       "  </thead>\n",
       "  <tbody>\n",
       "    <tr>\n",
       "      <th>38145486</th>\n",
       "      <td>Journal of medical Internet research</td>\n",
       "      <td>chatgpt may act research assistant help organi...</td>\n",
       "    </tr>\n",
       "    <tr>\n",
       "      <th>38145485</th>\n",
       "      <td>Journal of medical Internet research</td>\n",
       "      <td>acquired brain injury abi children adolescents...</td>\n",
       "    </tr>\n",
       "    <tr>\n",
       "      <th>38145484</th>\n",
       "      <td>JMIR rehabilitation and assistive technologies</td>\n",
       "      <td>promoting well-being older adults aging societ...</td>\n",
       "    </tr>\n",
       "    <tr>\n",
       "      <th>38145483</th>\n",
       "      <td>JMIR formative research</td>\n",
       "      <td>online pharmacies used less e-commerce sites g...</td>\n",
       "    </tr>\n",
       "    <tr>\n",
       "      <th>38145482</th>\n",
       "      <td>JMIR formative research</td>\n",
       "      <td>increasing numbers residency applications crea...</td>\n",
       "    </tr>\n",
       "  </tbody>\n",
       "</table>\n",
       "</div>"
      ],
      "text/plain": [
       "                                                 Journal  \\\n",
       "PMID                                                       \n",
       "38145486            Journal of medical Internet research   \n",
       "38145485            Journal of medical Internet research   \n",
       "38145484  JMIR rehabilitation and assistive technologies   \n",
       "38145483                         JMIR formative research   \n",
       "38145482                         JMIR formative research   \n",
       "\n",
       "                                                   Abstract  \n",
       "PMID                                                         \n",
       "38145486  chatgpt may act research assistant help organi...  \n",
       "38145485  acquired brain injury abi children adolescents...  \n",
       "38145484  promoting well-being older adults aging societ...  \n",
       "38145483  online pharmacies used less e-commerce sites g...  \n",
       "38145482  increasing numbers residency applications crea...  "
      ]
     },
     "execution_count": 164,
     "metadata": {},
     "output_type": "execute_result"
    }
   ],
   "source": [
    "signos = re.compile(\"(\\.)|(\\;)|(\\:)|(\\!)|(\\?)|(\\¿)|(\\@)|(\\,)|(\\\")|(\\()|(\\))|(\\[)|(\\])|(\\d+)\")\n",
    "\n",
    "def signs_clean(text):\n",
    "    return signos.sub('', text.lower())\n",
    "\n",
    "df_abstract.loc[:, \"Abstract\"] = df_abstract[\"Abstract\"].apply(lambda x: signs_clean(x))\n",
    "df_abstract.head()"
   ]
  },
  {
   "cell_type": "code",
   "execution_count": null,
   "metadata": {},
   "outputs": [
    {
     "data": {
      "text/html": [
       "<div>\n",
       "<style scoped>\n",
       "    .dataframe tbody tr th:only-of-type {\n",
       "        vertical-align: middle;\n",
       "    }\n",
       "\n",
       "    .dataframe tbody tr th {\n",
       "        vertical-align: top;\n",
       "    }\n",
       "\n",
       "    .dataframe thead th {\n",
       "        text-align: right;\n",
       "    }\n",
       "</style>\n",
       "<table border=\"1\" class=\"dataframe\">\n",
       "  <thead>\n",
       "    <tr style=\"text-align: right;\">\n",
       "      <th></th>\n",
       "      <th>Journal</th>\n",
       "      <th>Abstract</th>\n",
       "    </tr>\n",
       "    <tr>\n",
       "      <th>PMID</th>\n",
       "      <th></th>\n",
       "      <th></th>\n",
       "    </tr>\n",
       "  </thead>\n",
       "  <tbody>\n",
       "    <tr>\n",
       "      <th>38145486</th>\n",
       "      <td>Journal of medical Internet research</td>\n",
       "      <td>chatgpt may act research assistant help organi...</td>\n",
       "    </tr>\n",
       "    <tr>\n",
       "      <th>38145485</th>\n",
       "      <td>Journal of medical Internet research</td>\n",
       "      <td>acquired brain injury abi children adolescents...</td>\n",
       "    </tr>\n",
       "    <tr>\n",
       "      <th>38145484</th>\n",
       "      <td>JMIR rehabilitation and assistive technologies</td>\n",
       "      <td>promoting well-being older adults aging societ...</td>\n",
       "    </tr>\n",
       "    <tr>\n",
       "      <th>38145483</th>\n",
       "      <td>JMIR formative research</td>\n",
       "      <td>online pharmacies used less e-commerce sites g...</td>\n",
       "    </tr>\n",
       "    <tr>\n",
       "      <th>38145482</th>\n",
       "      <td>JMIR formative research</td>\n",
       "      <td>increasing numbers residency applications crea...</td>\n",
       "    </tr>\n",
       "  </tbody>\n",
       "</table>\n",
       "</div>"
      ],
      "text/plain": [
       "                                                 Journal  \\\n",
       "PMID                                                       \n",
       "38145486            Journal of medical Internet research   \n",
       "38145485            Journal of medical Internet research   \n",
       "38145484  JMIR rehabilitation and assistive technologies   \n",
       "38145483                         JMIR formative research   \n",
       "38145482                         JMIR formative research   \n",
       "\n",
       "                                                   Abstract  \n",
       "PMID                                                         \n",
       "38145486  chatgpt may act research assistant help organi...  \n",
       "38145485  acquired brain injury abi children adolescents...  \n",
       "38145484  promoting well-being older adults aging societ...  \n",
       "38145483  online pharmacies used less e-commerce sites g...  \n",
       "38145482  increasing numbers residency applications crea...  "
      ]
     },
     "execution_count": 165,
     "metadata": {},
     "output_type": "execute_result"
    }
   ],
   "source": [
    "english_stopwords = stopwords.words('english')\n",
    "\n",
    "def remove_stopwords(df):\n",
    "    return \" \".join([word for word in df.split() if word not in english_stopwords])\n",
    "\n",
    "df_abstract.loc[:, \"Abstract\"] = df_abstract[\"Abstract\"].apply(lambda x: remove_stopwords(x))\n",
    "df_abstract.head()"
   ]
  },
  {
   "cell_type": "markdown",
   "metadata": {},
   "source": [
    "## Stemming"
   ]
  },
  {
   "cell_type": "code",
   "execution_count": null,
   "metadata": {},
   "outputs": [
    {
     "data": {
      "text/html": [
       "<div>\n",
       "<style scoped>\n",
       "    .dataframe tbody tr th:only-of-type {\n",
       "        vertical-align: middle;\n",
       "    }\n",
       "\n",
       "    .dataframe tbody tr th {\n",
       "        vertical-align: top;\n",
       "    }\n",
       "\n",
       "    .dataframe thead th {\n",
       "        text-align: right;\n",
       "    }\n",
       "</style>\n",
       "<table border=\"1\" class=\"dataframe\">\n",
       "  <thead>\n",
       "    <tr style=\"text-align: right;\">\n",
       "      <th></th>\n",
       "      <th>Journal</th>\n",
       "      <th>Abstract</th>\n",
       "    </tr>\n",
       "    <tr>\n",
       "      <th>PMID</th>\n",
       "      <th></th>\n",
       "      <th></th>\n",
       "    </tr>\n",
       "  </thead>\n",
       "  <tbody>\n",
       "    <tr>\n",
       "      <th>38145486</th>\n",
       "      <td>Journal of medical Internet research</td>\n",
       "      <td>chatgpt may act research assist help organ dir...</td>\n",
       "    </tr>\n",
       "    <tr>\n",
       "      <th>38145485</th>\n",
       "      <td>Journal of medical Internet research</td>\n",
       "      <td>acquir brain injuri abi children adolesc lead ...</td>\n",
       "    </tr>\n",
       "    <tr>\n",
       "      <th>38145484</th>\n",
       "      <td>JMIR rehabilitation and assistive technologies</td>\n",
       "      <td>promot well-b older adult age societi requir n...</td>\n",
       "    </tr>\n",
       "    <tr>\n",
       "      <th>38145483</th>\n",
       "      <td>JMIR formative research</td>\n",
       "      <td>onlin pharmaci use less e-commerc site germani...</td>\n",
       "    </tr>\n",
       "    <tr>\n",
       "      <th>38145482</th>\n",
       "      <td>JMIR formative research</td>\n",
       "      <td>increa number resid applic creat challeng appl...</td>\n",
       "    </tr>\n",
       "  </tbody>\n",
       "</table>\n",
       "</div>"
      ],
      "text/plain": [
       "                                                 Journal  \\\n",
       "PMID                                                       \n",
       "38145486            Journal of medical Internet research   \n",
       "38145485            Journal of medical Internet research   \n",
       "38145484  JMIR rehabilitation and assistive technologies   \n",
       "38145483                         JMIR formative research   \n",
       "38145482                         JMIR formative research   \n",
       "\n",
       "                                                   Abstract  \n",
       "PMID                                                         \n",
       "38145486  chatgpt may act research assist help organ dir...  \n",
       "38145485  acquir brain injuri abi children adolesc lead ...  \n",
       "38145484  promot well-b older adult age societi requir n...  \n",
       "38145483  onlin pharmaci use less e-commerc site germani...  \n",
       "38145482  increa number resid applic creat challeng appl...  "
      ]
     },
     "execution_count": 168,
     "metadata": {},
     "output_type": "execute_result"
    }
   ],
   "source": [
    "def stemmer(x):\n",
    "    stemmer = SnowballStemmer('english')\n",
    "    return \" \".join([stemmer.stem(word) for word in x.split()])\n",
    "\n",
    "df_abstract.loc[:, \"Abstract\"] = df_abstract[\"Abstract\"].apply(lambda x: stemmer(x))\n",
    "df_abstract.head()"
   ]
  },
  {
   "cell_type": "code",
   "execution_count": null,
   "metadata": {},
   "outputs": [
    {
     "name": "stdout",
     "output_type": "stream",
     "text": [
      "<class 'pandas.core.frame.DataFrame'>\n",
      "Index: 33 entries, 38145486 to 38145447\n",
      "Data columns (total 3 columns):\n",
      " #   Column    Non-Null Count  Dtype \n",
      "---  ------    --------------  ----- \n",
      " 0   Journal   33 non-null     object\n",
      " 1   Abstract  33 non-null     object\n",
      " 2   Abtract   33 non-null     object\n",
      "dtypes: object(3)\n",
      "memory usage: 2.1+ KB\n"
     ]
    }
   ],
   "source": [
    "from textblob import TextBlob\n",
    "\n",
    "df_abstract.loc[:, \"Abtract\"] = df_abstract[\"Abstract\"].apply(lambda x: TextBlob(x))\n",
    "df_abstract.info()"
   ]
  },
  {
   "cell_type": "code",
   "execution_count": null,
   "metadata": {},
   "outputs": [],
   "source": [
    "dd = df_abstract[\"Abtract\"].iloc[2]"
   ]
  },
  {
   "cell_type": "code",
   "execution_count": null,
   "metadata": {},
   "outputs": [
    {
     "data": {
      "text/plain": [
       "TextBlob(\"promote well-b older adult age society require new slut one resource might use social root group active promote physics count stimuli engage root-assist group active may help slowdown physics count decline older adult current knowledge limit whether older adult engage group active humanlik social root whether expert post affect necessary precondit achieve intend effect group active pilot study aim first aim develop pilot observe code scheme root-assist group active self-report data engage mood nur home resin often difficult obtain exist observe instrument limit second aim investing older adult engage mood root-assist group active differ nur care home german-speak part switzerland develop observe system inspire exist tool structure observe engage mood older adult root-assist group active study older adult resin differ care home switzerland particle root-assist group active session observe use develop system data collect form video clip assess later regard engage direct gaze posture well body express active mood post neat affect variable rate -point rate scale pilot study find show engage mood older adult assess reliable use propos observe code scheme particle active engage root-assist group active mean sd median variable use measure engage direct gaze mean sd median posture body express mean sd median active mean sd median observe main post affect group almost neat affect observe mean sd median post affect mean sd median high develop observe code system use develop future study root-assist group active nur home context potent set admit pilot study india count physics stimuli older adult promote social root group set find encourage future technology develop improve social root point potent observe research system value develop\")"
      ]
     },
     "execution_count": 196,
     "metadata": {},
     "output_type": "execute_result"
    }
   ],
   "source": [
    "dd.correct()"
   ]
  }
 ],
 "metadata": {
  "kernelspec": {
   "display_name": "Python 3",
   "language": "python",
   "name": "python3"
  },
  "language_info": {
   "codemirror_mode": {
    "name": "ipython",
    "version": 3
   },
   "file_extension": ".py",
   "mimetype": "text/x-python",
   "name": "python",
   "nbconvert_exporter": "python",
   "pygments_lexer": "ipython3",
   "version": "3.11.1"
  },
  "orig_nbformat": 4
 },
 "nbformat": 4,
 "nbformat_minor": 2
}
